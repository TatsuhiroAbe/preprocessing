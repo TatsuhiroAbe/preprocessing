{
 "cells": [
  {
   "cell_type": "code",
   "execution_count": 1,
   "metadata": {},
   "outputs": [],
   "source": [
    "import pandas as pd\n",
    "import numpy as np\n",
    "import seaborn as sns\n",
    "import matplotlib.pyplot as plt\n",
    "%matplotlib inline\n",
    "plt.style.use('ggplot')"
   ]
  },
  {
   "cell_type": "markdown",
   "metadata": {},
   "source": [
    "# データを読み込む\n",
    "データはKaggleからダウンロードできます。\n",
    "\n",
    "[Kickstarter Projects](https://www.kaggle.com/kemical/kickstarter-projects)"
   ]
  },
  {
   "cell_type": "code",
   "execution_count": 2,
   "metadata": {},
   "outputs": [
    {
     "data": {
      "text/html": [
       "<div>\n",
       "<style scoped>\n",
       "    .dataframe tbody tr th:only-of-type {\n",
       "        vertical-align: middle;\n",
       "    }\n",
       "\n",
       "    .dataframe tbody tr th {\n",
       "        vertical-align: top;\n",
       "    }\n",
       "\n",
       "    .dataframe thead th {\n",
       "        text-align: right;\n",
       "    }\n",
       "</style>\n",
       "<table border=\"1\" class=\"dataframe\">\n",
       "  <thead>\n",
       "    <tr style=\"text-align: right;\">\n",
       "      <th></th>\n",
       "      <th>ID</th>\n",
       "      <th>name</th>\n",
       "      <th>category</th>\n",
       "      <th>main_category</th>\n",
       "      <th>currency</th>\n",
       "      <th>deadline</th>\n",
       "      <th>goal</th>\n",
       "      <th>launched</th>\n",
       "      <th>pledged</th>\n",
       "      <th>state</th>\n",
       "      <th>backers</th>\n",
       "      <th>country</th>\n",
       "      <th>usd pledged</th>\n",
       "      <th>usd_pledged_real</th>\n",
       "      <th>usd_goal_real</th>\n",
       "    </tr>\n",
       "  </thead>\n",
       "  <tbody>\n",
       "    <tr>\n",
       "      <th>0</th>\n",
       "      <td>1000002330</td>\n",
       "      <td>The Songs of Adelaide &amp; Abullah</td>\n",
       "      <td>Poetry</td>\n",
       "      <td>Publishing</td>\n",
       "      <td>GBP</td>\n",
       "      <td>2015-10-09</td>\n",
       "      <td>1000.0</td>\n",
       "      <td>2015-08-11 12:12:28</td>\n",
       "      <td>0.0</td>\n",
       "      <td>failed</td>\n",
       "      <td>0</td>\n",
       "      <td>GB</td>\n",
       "      <td>0.0</td>\n",
       "      <td>0.0</td>\n",
       "      <td>1533.95</td>\n",
       "    </tr>\n",
       "    <tr>\n",
       "      <th>1</th>\n",
       "      <td>1000003930</td>\n",
       "      <td>Greeting From Earth: ZGAC Arts Capsule For ET</td>\n",
       "      <td>Narrative Film</td>\n",
       "      <td>Film &amp; Video</td>\n",
       "      <td>USD</td>\n",
       "      <td>2017-11-01</td>\n",
       "      <td>30000.0</td>\n",
       "      <td>2017-09-02 04:43:57</td>\n",
       "      <td>2421.0</td>\n",
       "      <td>failed</td>\n",
       "      <td>15</td>\n",
       "      <td>US</td>\n",
       "      <td>100.0</td>\n",
       "      <td>2421.0</td>\n",
       "      <td>30000.00</td>\n",
       "    </tr>\n",
       "    <tr>\n",
       "      <th>2</th>\n",
       "      <td>1000004038</td>\n",
       "      <td>Where is Hank?</td>\n",
       "      <td>Narrative Film</td>\n",
       "      <td>Film &amp; Video</td>\n",
       "      <td>USD</td>\n",
       "      <td>2013-02-26</td>\n",
       "      <td>45000.0</td>\n",
       "      <td>2013-01-12 00:20:50</td>\n",
       "      <td>220.0</td>\n",
       "      <td>failed</td>\n",
       "      <td>3</td>\n",
       "      <td>US</td>\n",
       "      <td>220.0</td>\n",
       "      <td>220.0</td>\n",
       "      <td>45000.00</td>\n",
       "    </tr>\n",
       "    <tr>\n",
       "      <th>3</th>\n",
       "      <td>1000007540</td>\n",
       "      <td>ToshiCapital Rekordz Needs Help to Complete Album</td>\n",
       "      <td>Music</td>\n",
       "      <td>Music</td>\n",
       "      <td>USD</td>\n",
       "      <td>2012-04-16</td>\n",
       "      <td>5000.0</td>\n",
       "      <td>2012-03-17 03:24:11</td>\n",
       "      <td>1.0</td>\n",
       "      <td>failed</td>\n",
       "      <td>1</td>\n",
       "      <td>US</td>\n",
       "      <td>1.0</td>\n",
       "      <td>1.0</td>\n",
       "      <td>5000.00</td>\n",
       "    </tr>\n",
       "    <tr>\n",
       "      <th>4</th>\n",
       "      <td>1000011046</td>\n",
       "      <td>Community Film Project: The Art of Neighborhoo...</td>\n",
       "      <td>Film &amp; Video</td>\n",
       "      <td>Film &amp; Video</td>\n",
       "      <td>USD</td>\n",
       "      <td>2015-08-29</td>\n",
       "      <td>19500.0</td>\n",
       "      <td>2015-07-04 08:35:03</td>\n",
       "      <td>1283.0</td>\n",
       "      <td>canceled</td>\n",
       "      <td>14</td>\n",
       "      <td>US</td>\n",
       "      <td>1283.0</td>\n",
       "      <td>1283.0</td>\n",
       "      <td>19500.00</td>\n",
       "    </tr>\n",
       "  </tbody>\n",
       "</table>\n",
       "</div>"
      ],
      "text/plain": [
       "           ID                                               name  \\\n",
       "0  1000002330                    The Songs of Adelaide & Abullah   \n",
       "1  1000003930      Greeting From Earth: ZGAC Arts Capsule For ET   \n",
       "2  1000004038                                     Where is Hank?   \n",
       "3  1000007540  ToshiCapital Rekordz Needs Help to Complete Album   \n",
       "4  1000011046  Community Film Project: The Art of Neighborhoo...   \n",
       "\n",
       "         category main_category currency    deadline     goal  \\\n",
       "0          Poetry    Publishing      GBP  2015-10-09   1000.0   \n",
       "1  Narrative Film  Film & Video      USD  2017-11-01  30000.0   \n",
       "2  Narrative Film  Film & Video      USD  2013-02-26  45000.0   \n",
       "3           Music         Music      USD  2012-04-16   5000.0   \n",
       "4    Film & Video  Film & Video      USD  2015-08-29  19500.0   \n",
       "\n",
       "              launched  pledged     state  backers country  usd pledged  \\\n",
       "0  2015-08-11 12:12:28      0.0    failed        0      GB          0.0   \n",
       "1  2017-09-02 04:43:57   2421.0    failed       15      US        100.0   \n",
       "2  2013-01-12 00:20:50    220.0    failed        3      US        220.0   \n",
       "3  2012-03-17 03:24:11      1.0    failed        1      US          1.0   \n",
       "4  2015-07-04 08:35:03   1283.0  canceled       14      US       1283.0   \n",
       "\n",
       "   usd_pledged_real  usd_goal_real  \n",
       "0               0.0        1533.95  \n",
       "1            2421.0       30000.00  \n",
       "2             220.0       45000.00  \n",
       "3               1.0        5000.00  \n",
       "4            1283.0       19500.00  "
      ]
     },
     "execution_count": 2,
     "metadata": {},
     "output_type": "execute_result"
    }
   ],
   "source": [
    "df = pd.read_csv('ks-projects-201801.csv', nrows=30000)\n",
    "df.head()"
   ]
  },
  {
   "cell_type": "code",
   "execution_count": 3,
   "metadata": {},
   "outputs": [
    {
     "data": {
      "text/html": [
       "<div>\n",
       "<style scoped>\n",
       "    .dataframe tbody tr th:only-of-type {\n",
       "        vertical-align: middle;\n",
       "    }\n",
       "\n",
       "    .dataframe tbody tr th {\n",
       "        vertical-align: top;\n",
       "    }\n",
       "\n",
       "    .dataframe thead th {\n",
       "        text-align: right;\n",
       "    }\n",
       "</style>\n",
       "<table border=\"1\" class=\"dataframe\">\n",
       "  <thead>\n",
       "    <tr style=\"text-align: right;\">\n",
       "      <th></th>\n",
       "      <th>category</th>\n",
       "      <th>main_category</th>\n",
       "      <th>currency</th>\n",
       "      <th>state</th>\n",
       "      <th>country</th>\n",
       "      <th>usd_goal_real</th>\n",
       "    </tr>\n",
       "  </thead>\n",
       "  <tbody>\n",
       "    <tr>\n",
       "      <th>0</th>\n",
       "      <td>Poetry</td>\n",
       "      <td>Publishing</td>\n",
       "      <td>GBP</td>\n",
       "      <td>failed</td>\n",
       "      <td>GB</td>\n",
       "      <td>1533.95</td>\n",
       "    </tr>\n",
       "    <tr>\n",
       "      <th>1</th>\n",
       "      <td>Narrative Film</td>\n",
       "      <td>Film &amp; Video</td>\n",
       "      <td>USD</td>\n",
       "      <td>failed</td>\n",
       "      <td>US</td>\n",
       "      <td>30000.00</td>\n",
       "    </tr>\n",
       "    <tr>\n",
       "      <th>2</th>\n",
       "      <td>Narrative Film</td>\n",
       "      <td>Film &amp; Video</td>\n",
       "      <td>USD</td>\n",
       "      <td>failed</td>\n",
       "      <td>US</td>\n",
       "      <td>45000.00</td>\n",
       "    </tr>\n",
       "    <tr>\n",
       "      <th>3</th>\n",
       "      <td>Music</td>\n",
       "      <td>Music</td>\n",
       "      <td>USD</td>\n",
       "      <td>failed</td>\n",
       "      <td>US</td>\n",
       "      <td>5000.00</td>\n",
       "    </tr>\n",
       "    <tr>\n",
       "      <th>4</th>\n",
       "      <td>Film &amp; Video</td>\n",
       "      <td>Film &amp; Video</td>\n",
       "      <td>USD</td>\n",
       "      <td>canceled</td>\n",
       "      <td>US</td>\n",
       "      <td>19500.00</td>\n",
       "    </tr>\n",
       "  </tbody>\n",
       "</table>\n",
       "</div>"
      ],
      "text/plain": [
       "         category main_category currency     state country  usd_goal_real\n",
       "0          Poetry    Publishing      GBP    failed      GB        1533.95\n",
       "1  Narrative Film  Film & Video      USD    failed      US       30000.00\n",
       "2  Narrative Film  Film & Video      USD    failed      US       45000.00\n",
       "3           Music         Music      USD    failed      US        5000.00\n",
       "4    Film & Video  Film & Video      USD  canceled      US       19500.00"
      ]
     },
     "execution_count": 3,
     "metadata": {},
     "output_type": "execute_result"
    }
   ],
   "source": [
    "df = df.drop(columns=['ID', 'name', 'deadline', 'goal', 'launched', 'pledged', 'backers', 'usd pledged', 'usd_pledged_real'])\n",
    "df.head()"
   ]
  },
  {
   "cell_type": "markdown",
   "metadata": {},
   "source": [
    "# 欠損値の確認と処理\n",
    "欠損値の確認には、isnull()やinfo()を使います。"
   ]
  },
  {
   "cell_type": "code",
   "execution_count": 4,
   "metadata": {},
   "outputs": [
    {
     "data": {
      "text/plain": [
       "category         0\n",
       "main_category    0\n",
       "currency         0\n",
       "state            0\n",
       "country          0\n",
       "usd_goal_real    0\n",
       "dtype: int64"
      ]
     },
     "execution_count": 4,
     "metadata": {},
     "output_type": "execute_result"
    }
   ],
   "source": [
    "df.isnull().sum()"
   ]
  },
  {
   "cell_type": "code",
   "execution_count": 5,
   "metadata": {},
   "outputs": [
    {
     "name": "stdout",
     "output_type": "stream",
     "text": [
      "<class 'pandas.core.frame.DataFrame'>\n",
      "RangeIndex: 30000 entries, 0 to 29999\n",
      "Data columns (total 6 columns):\n",
      "category         30000 non-null object\n",
      "main_category    30000 non-null object\n",
      "currency         30000 non-null object\n",
      "state            30000 non-null object\n",
      "country          30000 non-null object\n",
      "usd_goal_real    30000 non-null float64\n",
      "dtypes: float64(1), object(5)\n",
      "memory usage: 1.4+ MB\n"
     ]
    }
   ],
   "source": [
    "df.info()"
   ]
  },
  {
   "cell_type": "markdown",
   "metadata": {},
   "source": [
    "欠損値があった場合は、それをどう処理するかを考えます。\n",
    "\n",
    "そのままにしておいても良い場合や、欠損していることを示すあらたなクラスを設ける場合、欠損値を含むデータを削除する場合や他の値で欠損値を補完する場合など、処理の方法はさまざまです。"
   ]
  },
  {
   "cell_type": "code",
   "execution_count": 6,
   "metadata": {},
   "outputs": [],
   "source": [
    "# # 欠損していることを示すラベルをつける場合\n",
    "# df['col'] = df['col'].fillna('XXX')\n",
    "\n",
    "# # 欠損値を含むデータを削除する場合\n",
    "# df = df.dropna()\n",
    "# df = df.dropna(thresh=3)\n",
    "# df = df[df['col'].isnull() == False]\n",
    "# df = df.dropna(subset=['col'])\n",
    "\n",
    "# # 他の値で補完する場合（最頻値）\n",
    "# df = df.fillna(df['col'].mode()[0])"
   ]
  },
  {
   "cell_type": "markdown",
   "metadata": {},
   "source": [
    "# カテゴリの数を確認する\n",
    "カテゴリの数を確認するには、nunique()を使うと便利です。\n",
    "\n",
    "さらに、value_counts()を使うと、それぞれのカテゴリにいくつのデータが属しているのかを確認できます。"
   ]
  },
  {
   "cell_type": "code",
   "execution_count": 7,
   "metadata": {},
   "outputs": [
    {
     "data": {
      "text/plain": [
       "category          159\n",
       "main_category      15\n",
       "currency           14\n",
       "state               6\n",
       "country            23\n",
       "usd_goal_real    7354\n",
       "dtype: int64"
      ]
     },
     "execution_count": 7,
     "metadata": {},
     "output_type": "execute_result"
    }
   ],
   "source": [
    "df.nunique()"
   ]
  },
  {
   "cell_type": "code",
   "execution_count": 8,
   "metadata": {
    "scrolled": true
   },
   "outputs": [
    {
     "data": {
      "text/plain": [
       "Product Design       1741\n",
       "Documentary          1252\n",
       "Music                1200\n",
       "Tabletop Games       1131\n",
       "Shorts               1001\n",
       "Video Games           915\n",
       "Food                  885\n",
       "Film & Video          852\n",
       "Fiction               728\n",
       "Fashion               691\n",
       "Nonfiction            683\n",
       "Art                   655\n",
       "Theater               563\n",
       "Technology            542\n",
       "Children's Books      538\n",
       "Rock                  536\n",
       "Apparel               521\n",
       "Apps                  509\n",
       "Photography           479\n",
       "Indie Rock            469\n",
       "Publishing            461\n",
       "Webseries             444\n",
       "Narrative Film        422\n",
       "Comics                413\n",
       "Web                   387\n",
       "Country & Folk        338\n",
       "Crafts                335\n",
       "Design                313\n",
       "Hip-Hop               306\n",
       "Hardware              294\n",
       "                     ... \n",
       "Space Exploration      23\n",
       "Movie Theaters         23\n",
       "Makerspaces            22\n",
       "Civic Design           22\n",
       "Animals                22\n",
       "Literary Journals      21\n",
       "Family                 20\n",
       "Printing               19\n",
       "Puzzles                18\n",
       "Knitting               17\n",
       "Video Art              17\n",
       "Crochet                16\n",
       "Glass                  15\n",
       "Translations           14\n",
       "Workshops              12\n",
       "Textiles               12\n",
       "Blues                  12\n",
       "Romance                10\n",
       "Latin                  10\n",
       "Weaving                10\n",
       "Pottery                 9\n",
       "Pet Fashion             9\n",
       "Embroidery              8\n",
       "Letterpress             6\n",
       "Typography              6\n",
       "Quilts                  6\n",
       "Chiptune                2\n",
       "Taxidermy               2\n",
       "Residencies             1\n",
       "Literary Spaces         1\n",
       "Name: category, Length: 159, dtype: int64"
      ]
     },
     "execution_count": 8,
     "metadata": {},
     "output_type": "execute_result"
    }
   ],
   "source": [
    "df['category'].value_counts()"
   ]
  },
  {
   "cell_type": "markdown",
   "metadata": {},
   "source": [
    "## それぞれのカテゴリの割合を計算する"
   ]
  },
  {
   "cell_type": "code",
   "execution_count": 9,
   "metadata": {},
   "outputs": [
    {
     "data": {
      "text/plain": [
       "failed        0.52\n",
       "successful    0.36\n",
       "canceled      0.10\n",
       "undefined     0.01\n",
       "live          0.01\n",
       "suspended     0.00\n",
       "Name: state, dtype: float64"
      ]
     },
     "execution_count": 9,
     "metadata": {},
     "output_type": "execute_result"
    }
   ],
   "source": [
    "success_rate = round(df['state'].value_counts() / len(df['state']), 2)\n",
    "success_rate"
   ]
  },
  {
   "cell_type": "markdown",
   "metadata": {},
   "source": [
    "# 円グラフで割合を可視化する"
   ]
  },
  {
   "cell_type": "code",
   "execution_count": 10,
   "metadata": {},
   "outputs": [
    {
     "data": {
      "image/png": "[encoded data removed]",
      "text/plain": [
       "<Figure size 720x720 with 1 Axes>"
      ]
     },
     "metadata": {},
     "output_type": "display_data"
    }
   ],
   "source": [
    "plt.figure(figsize=(10, 10))\n",
    "\n",
    "plt.pie(success_rate, \n",
    "        labels=success_rate.index, \n",
    "        startangle=90, \n",
    "        autopct='%.0f%%', \n",
    "        textprops={'fontsize': 20},\n",
    "        counterclock=False)\n",
    "\n",
    "plt.show()"
   ]
  },
  {
   "cell_type": "code",
   "execution_count": 11,
   "metadata": {},
   "outputs": [
    {
     "data": {
      "text/html": [
       "<script>requirejs.config({paths: { 'plotly': ['https://cdn.plot.ly/plotly-latest.min']},});if(!window.Plotly) {{require(['plotly'],function(plotly) {window.Plotly=plotly;});}}</script>"
      ],
      "text/vnd.plotly.v1+html": [
       "<script>requirejs.config({paths: { 'plotly': ['https://cdn.plot.ly/plotly-latest.min']},});if(!window.Plotly) {{require(['plotly'],function(plotly) {window.Plotly=plotly;});}}</script>"
      ]
     },
     "metadata": {},
     "output_type": "display_data"
    }
   ],
   "source": [
    "import plotly.graph_objs as go\n",
    "from plotly.offline import init_notebook_mode, iplot, plot\n",
    "init_notebook_mode(connected=True)"
   ]
  },
  {
   "cell_type": "code",
   "execution_count": 12,
   "metadata": {
    "scrolled": false
   },
   "outputs": [
    {
     "data": {
      "application/vnd.plotly.v1+json": {
       "data": [
        {
         "labels": [
          "failed",
          "successful",
          "canceled",
          "undefined",
          "live",
          "suspended"
         ],
         "marker": {
          "colors": [
           "red"
          ]
         },
         "type": "pie",
         "uid": "d4478af6-c481-11e8-9ef0-787b8ace8718",
         "values": [
          0.52,
          0.36,
          0.1,
          0.01,
          0.01,
          0
         ]
        }
       ],
       "layout": {
        "legend": {
         "orientation": "h"
        },
        "title": "Pie"
       }
      },
      "text/html": [
       "<div id=\"eb255f24-167a-41bd-926f-1ac9158206ee\" style=\"height: 525px; width: 100%;\" class=\"plotly-graph-div\"></div><script type=\"text/javascript\">require([\"plotly\"], function(Plotly) { window.PLOTLYENV=window.PLOTLYENV || {};window.PLOTLYENV.BASE_URL=\"https://plot.ly\";Plotly.newPlot(\"eb255f24-167a-41bd-926f-1ac9158206ee\", [{\"labels\": [\"failed\", \"successful\", \"canceled\", \"undefined\", \"live\", \"suspended\"], \"marker\": {\"colors\": [\"red\"]}, \"values\": [0.52, 0.36, 0.1, 0.01, 0.01, 0.0], \"type\": \"pie\", \"uid\": \"d4478af6-c481-11e8-9ef0-787b8ace8718\"}], {\"legend\": {\"orientation\": \"h\"}, \"title\": \"Pie\"}, {\"showLink\": true, \"linkText\": \"Export to plot.ly\"})});</script>"
      ],
      "text/vnd.plotly.v1+html": [
       "<div id=\"eb255f24-167a-41bd-926f-1ac9158206ee\" style=\"height: 525px; width: 100%;\" class=\"plotly-graph-div\"></div><script type=\"text/javascript\">require([\"plotly\"], function(Plotly) { window.PLOTLYENV=window.PLOTLYENV || {};window.PLOTLYENV.BASE_URL=\"https://plot.ly\";Plotly.newPlot(\"eb255f24-167a-41bd-926f-1ac9158206ee\", [{\"labels\": [\"failed\", \"successful\", \"canceled\", \"undefined\", \"live\", \"suspended\"], \"marker\": {\"colors\": [\"red\"]}, \"values\": [0.52, 0.36, 0.1, 0.01, 0.01, 0.0], \"type\": \"pie\", \"uid\": \"d4478af6-c481-11e8-9ef0-787b8ace8718\"}], {\"legend\": {\"orientation\": \"h\"}, \"title\": \"Pie\"}, {\"showLink\": true, \"linkText\": \"Export to plot.ly\"})});</script>"
      ]
     },
     "metadata": {},
     "output_type": "display_data"
    }
   ],
   "source": [
    "trace = go.Pie(labels=success_rate.index, \n",
    "               values=success_rate, \n",
    "               marker=dict(colors=['red']))\n",
    "\n",
    "layout = go.Layout(title='Pie', \n",
    "                   legend=dict(orientation='h'))\n",
    "\n",
    "data=[trace]\n",
    "fig = go.Figure(data, layout=layout)\n",
    "iplot(fig)"
   ]
  },
  {
   "cell_type": "markdown",
   "metadata": {},
   "source": [
    "# 棒グラフでデータの件数を確認する"
   ]
  },
  {
   "cell_type": "code",
   "execution_count": 13,
   "metadata": {},
   "outputs": [
    {
     "data": {
      "text/plain": [
       "<BarContainer object of 15 artists>"
      ]
     },
     "execution_count": 13,
     "metadata": {},
     "output_type": "execute_result"
    },
    {
     "data": {
      "image/png": "[encoded data removed]",
      "text/plain": [
       "<Figure size 864x576 with 1 Axes>"
      ]
     },
     "metadata": {},
     "output_type": "display_data"
    }
   ],
   "source": [
    "plt.figure(figsize=(12, 8))\n",
    "plt.bar(x=df['category'].value_counts().index[:15],\n",
    "        height=df['category'].value_counts()[:15],\n",
    "        width=0.7)"
   ]
  },
  {
   "cell_type": "code",
   "execution_count": 14,
   "metadata": {},
   "outputs": [
    {
     "data": {
      "application/vnd.plotly.v1+json": {
       "data": [
        {
         "name": "Category",
         "type": "bar",
         "uid": "d486a4ac-c481-11e8-ae49-787b8ace8718",
         "x": [
          "Product Design",
          "Documentary",
          "Music",
          "Tabletop Games",
          "Shorts",
          "Video Games",
          "Food",
          "Film & Video",
          "Fiction",
          "Fashion",
          "Nonfiction",
          "Art",
          "Theater",
          "Technology",
          "Children's Books",
          "Rock",
          "Apparel",
          "Apps",
          "Photography",
          "Indie Rock",
          "Publishing",
          "Webseries",
          "Narrative Film",
          "Comics",
          "Web",
          "Country & Folk",
          "Crafts",
          "Design",
          "Hip-Hop",
          "Hardware",
          "Illustration",
          "Games",
          "Pop",
          "Public Art",
          "Painting",
          "Software",
          "Accessories",
          "Classical Music",
          "Restaurants",
          "Gadgets",
          "Mixed Media",
          "Animation",
          "Comic Books",
          "Drinks",
          "Playing Cards",
          "Art Books",
          "Comedy",
          "Performance Art",
          "Dance",
          "Graphic Design",
          "World Music",
          "Drama",
          "Electronic Music",
          "Mobile Games",
          "Sculpture",
          "Graphic Novels",
          "Jazz",
          "Food Trucks",
          "Photobooks",
          "Small Batch",
          "Plays",
          "Journalism",
          "DIY",
          "Periodicals",
          "Poetry",
          "Digital Art",
          "People",
          "Jewelry",
          "Horror",
          "Wearables",
          "Farms",
          "Woodworking",
          "Live Games",
          "Conceptual Art",
          "Performances",
          "Faith",
          "Experimental",
          "DIY Electronics",
          "Festivals",
          "Footwear",
          "Academic",
          "Anthologies",
          "Television",
          "Spaces",
          "Musical",
          "Music Videos",
          "Ready-to-wear",
          "Architecture",
          "Radio & Podcasts",
          "Fine Art",
          "Young Adult",
          "Events",
          "3D Printing",
          "Metal",
          "Thrillers",
          "Places",
          "Science Fiction",
          "Print",
          "Robots",
          "Action",
          "Vegan",
          "Cookbooks",
          "Webcomics",
          "Audio",
          "Sound",
          "R&B",
          "Candles",
          "Nature",
          "Camera Equipment",
          "Zines",
          "Installations",
          "Ceramics",
          "Interactive Design",
          "Calendars",
          "Video",
          "Childrenswear",
          "Flight",
          "Fantasy",
          "Kids",
          "Community Gardens",
          "Farmer's Markets",
          "Gaming Hardware",
          "Stationery",
          "Punk",
          "Couture",
          "Fabrication Tools",
          "Immersive",
          "Bacon",
          "Photo",
          "Space Exploration",
          "Movie Theaters",
          "Makerspaces",
          "Civic Design",
          "Animals",
          "Literary Journals",
          "Family",
          "Printing",
          "Puzzles",
          "Knitting",
          "Video Art",
          "Crochet",
          "Glass",
          "Translations",
          "Workshops",
          "Textiles",
          "Blues",
          "Romance",
          "Latin",
          "Weaving",
          "Pottery",
          "Pet Fashion",
          "Embroidery",
          "Letterpress",
          "Typography",
          "Quilts",
          "Chiptune",
          "Taxidermy",
          "Residencies",
          "Literary Spaces"
         ],
         "y": [
          1741,
          1252,
          1200,
          1131,
          1001,
          915,
          885,
          852,
          728,
          691,
          683,
          655,
          563,
          542,
          538,
          536,
          521,
          509,
          479,
          469,
          461,
          444,
          422,
          413,
          387,
          338,
          335,
          313,
          306,
          294,
          271,
          264,
          261,
          257,
          244,
          240,
          234,
          233,
          222,
          218,
          215,
          212,
          212,
          210,
          209,
          201,
          190,
          179,
          176,
          176,
          175,
          172,
          163,
          158,
          155,
          146,
          138,
          131,
          129,
          127,
          119,
          117,
          112,
          106,
          104,
          104,
          103,
          102,
          102,
          101,
          95,
          95,
          88,
          87,
          84,
          81,
          80,
          78,
          77,
          76,
          75,
          75,
          74,
          70,
          69,
          67,
          67,
          64,
          60,
          60,
          60,
          60,
          58,
          58,
          57,
          56,
          50,
          48,
          46,
          46,
          46,
          45,
          44,
          42,
          41,
          40,
          39,
          38,
          37,
          36,
          36,
          35,
          33,
          32,
          32,
          32,
          31,
          31,
          31,
          29,
          28,
          27,
          27,
          26,
          26,
          26,
          25,
          24,
          23,
          23,
          23,
          22,
          22,
          22,
          21,
          20,
          19,
          18,
          17,
          17,
          16,
          15,
          14,
          12,
          12,
          12,
          10,
          10,
          10,
          9,
          9,
          8,
          6,
          6,
          6,
          2,
          2,
          1,
          1
         ]
        }
       ],
       "layout": {
        "legend": {
         "orientation": "h"
        },
        "title": "Bar"
       }
      },
      "text/html": [
       "<div id=\"efd45c3e-de0a-4c17-861e-3464ad38fdf9\" style=\"height: 525px; width: 100%;\" class=\"plotly-graph-div\"></div><script type=\"text/javascript\">require([\"plotly\"], function(Plotly) { window.PLOTLYENV=window.PLOTLYENV || {};window.PLOTLYENV.BASE_URL=\"https://plot.ly\";Plotly.newPlot(\"efd45c3e-de0a-4c17-861e-3464ad38fdf9\", [{\"name\": \"Category\", \"x\": [\"Product Design\", \"Documentary\", \"Music\", \"Tabletop Games\", \"Shorts\", \"Video Games\", \"Food\", \"Film & Video\", \"Fiction\", \"Fashion\", \"Nonfiction\", \"Art\", \"Theater\", \"Technology\", \"Children's Books\", \"Rock\", \"Apparel\", \"Apps\", \"Photography\", \"Indie Rock\", \"Publishing\", \"Webseries\", \"Narrative Film\", \"Comics\", \"Web\", \"Country & Folk\", \"Crafts\", \"Design\", \"Hip-Hop\", \"Hardware\", \"Illustration\", \"Games\", \"Pop\", \"Public Art\", \"Painting\", \"Software\", \"Accessories\", \"Classical Music\", \"Restaurants\", \"Gadgets\", \"Mixed Media\", \"Animation\", \"Comic Books\", \"Drinks\", \"Playing Cards\", \"Art Books\", \"Comedy\", \"Performance Art\", \"Dance\", \"Graphic Design\", \"World Music\", \"Drama\", \"Electronic Music\", \"Mobile Games\", \"Sculpture\", \"Graphic Novels\", \"Jazz\", \"Food Trucks\", \"Photobooks\", \"Small Batch\", \"Plays\", \"Journalism\", \"DIY\", \"Periodicals\", \"Poetry\", \"Digital Art\", \"People\", \"Jewelry\", \"Horror\", \"Wearables\", \"Farms\", \"Woodworking\", \"Live Games\", \"Conceptual Art\", \"Performances\", \"Faith\", \"Experimental\", \"DIY Electronics\", \"Festivals\", \"Footwear\", \"Academic\", \"Anthologies\", \"Television\", \"Spaces\", \"Musical\", \"Music Videos\", \"Ready-to-wear\", \"Architecture\", \"Radio & Podcasts\", \"Fine Art\", \"Young Adult\", \"Events\", \"3D Printing\", \"Metal\", \"Thrillers\", \"Places\", \"Science Fiction\", \"Print\", \"Robots\", \"Action\", \"Vegan\", \"Cookbooks\", \"Webcomics\", \"Audio\", \"Sound\", \"R&B\", \"Candles\", \"Nature\", \"Camera Equipment\", \"Zines\", \"Installations\", \"Ceramics\", \"Interactive Design\", \"Calendars\", \"Video\", \"Childrenswear\", \"Flight\", \"Fantasy\", \"Kids\", \"Community Gardens\", \"Farmer's Markets\", \"Gaming Hardware\", \"Stationery\", \"Punk\", \"Couture\", \"Fabrication Tools\", \"Immersive\", \"Bacon\", \"Photo\", \"Space Exploration\", \"Movie Theaters\", \"Makerspaces\", \"Civic Design\", \"Animals\", \"Literary Journals\", \"Family\", \"Printing\", \"Puzzles\", \"Knitting\", \"Video Art\", \"Crochet\", \"Glass\", \"Translations\", \"Workshops\", \"Textiles\", \"Blues\", \"Romance\", \"Latin\", \"Weaving\", \"Pottery\", \"Pet Fashion\", \"Embroidery\", \"Letterpress\", \"Typography\", \"Quilts\", \"Chiptune\", \"Taxidermy\", \"Residencies\", \"Literary Spaces\"], \"y\": [1741, 1252, 1200, 1131, 1001, 915, 885, 852, 728, 691, 683, 655, 563, 542, 538, 536, 521, 509, 479, 469, 461, 444, 422, 413, 387, 338, 335, 313, 306, 294, 271, 264, 261, 257, 244, 240, 234, 233, 222, 218, 215, 212, 212, 210, 209, 201, 190, 179, 176, 176, 175, 172, 163, 158, 155, 146, 138, 131, 129, 127, 119, 117, 112, 106, 104, 104, 103, 102, 102, 101, 95, 95, 88, 87, 84, 81, 80, 78, 77, 76, 75, 75, 74, 70, 69, 67, 67, 64, 60, 60, 60, 60, 58, 58, 57, 56, 50, 48, 46, 46, 46, 45, 44, 42, 41, 40, 39, 38, 37, 36, 36, 35, 33, 32, 32, 32, 31, 31, 31, 29, 28, 27, 27, 26, 26, 26, 25, 24, 23, 23, 23, 22, 22, 22, 21, 20, 19, 18, 17, 17, 16, 15, 14, 12, 12, 12, 10, 10, 10, 9, 9, 8, 6, 6, 6, 2, 2, 1, 1], \"type\": \"bar\", \"uid\": \"d486a4ac-c481-11e8-ae49-787b8ace8718\"}], {\"legend\": {\"orientation\": \"h\"}, \"title\": \"Bar\"}, {\"showLink\": true, \"linkText\": \"Export to plot.ly\"})});</script>"
      ],
      "text/vnd.plotly.v1+html": [
       "<div id=\"efd45c3e-de0a-4c17-861e-3464ad38fdf9\" style=\"height: 525px; width: 100%;\" class=\"plotly-graph-div\"></div><script type=\"text/javascript\">require([\"plotly\"], function(Plotly) { window.PLOTLYENV=window.PLOTLYENV || {};window.PLOTLYENV.BASE_URL=\"https://plot.ly\";Plotly.newPlot(\"efd45c3e-de0a-4c17-861e-3464ad38fdf9\", [{\"name\": \"Category\", \"x\": [\"Product Design\", \"Documentary\", \"Music\", \"Tabletop Games\", \"Shorts\", \"Video Games\", \"Food\", \"Film & Video\", \"Fiction\", \"Fashion\", \"Nonfiction\", \"Art\", \"Theater\", \"Technology\", \"Children's Books\", \"Rock\", \"Apparel\", \"Apps\", \"Photography\", \"Indie Rock\", \"Publishing\", \"Webseries\", \"Narrative Film\", \"Comics\", \"Web\", \"Country & Folk\", \"Crafts\", \"Design\", \"Hip-Hop\", \"Hardware\", \"Illustration\", \"Games\", \"Pop\", \"Public Art\", \"Painting\", \"Software\", \"Accessories\", \"Classical Music\", \"Restaurants\", \"Gadgets\", \"Mixed Media\", \"Animation\", \"Comic Books\", \"Drinks\", \"Playing Cards\", \"Art Books\", \"Comedy\", \"Performance Art\", \"Dance\", \"Graphic Design\", \"World Music\", \"Drama\", \"Electronic Music\", \"Mobile Games\", \"Sculpture\", \"Graphic Novels\", \"Jazz\", \"Food Trucks\", \"Photobooks\", \"Small Batch\", \"Plays\", \"Journalism\", \"DIY\", \"Periodicals\", \"Poetry\", \"Digital Art\", \"People\", \"Jewelry\", \"Horror\", \"Wearables\", \"Farms\", \"Woodworking\", \"Live Games\", \"Conceptual Art\", \"Performances\", \"Faith\", \"Experimental\", \"DIY Electronics\", \"Festivals\", \"Footwear\", \"Academic\", \"Anthologies\", \"Television\", \"Spaces\", \"Musical\", \"Music Videos\", \"Ready-to-wear\", \"Architecture\", \"Radio & Podcasts\", \"Fine Art\", \"Young Adult\", \"Events\", \"3D Printing\", \"Metal\", \"Thrillers\", \"Places\", \"Science Fiction\", \"Print\", \"Robots\", \"Action\", \"Vegan\", \"Cookbooks\", \"Webcomics\", \"Audio\", \"Sound\", \"R&B\", \"Candles\", \"Nature\", \"Camera Equipment\", \"Zines\", \"Installations\", \"Ceramics\", \"Interactive Design\", \"Calendars\", \"Video\", \"Childrenswear\", \"Flight\", \"Fantasy\", \"Kids\", \"Community Gardens\", \"Farmer's Markets\", \"Gaming Hardware\", \"Stationery\", \"Punk\", \"Couture\", \"Fabrication Tools\", \"Immersive\", \"Bacon\", \"Photo\", \"Space Exploration\", \"Movie Theaters\", \"Makerspaces\", \"Civic Design\", \"Animals\", \"Literary Journals\", \"Family\", \"Printing\", \"Puzzles\", \"Knitting\", \"Video Art\", \"Crochet\", \"Glass\", \"Translations\", \"Workshops\", \"Textiles\", \"Blues\", \"Romance\", \"Latin\", \"Weaving\", \"Pottery\", \"Pet Fashion\", \"Embroidery\", \"Letterpress\", \"Typography\", \"Quilts\", \"Chiptune\", \"Taxidermy\", \"Residencies\", \"Literary Spaces\"], \"y\": [1741, 1252, 1200, 1131, 1001, 915, 885, 852, 728, 691, 683, 655, 563, 542, 538, 536, 521, 509, 479, 469, 461, 444, 422, 413, 387, 338, 335, 313, 306, 294, 271, 264, 261, 257, 244, 240, 234, 233, 222, 218, 215, 212, 212, 210, 209, 201, 190, 179, 176, 176, 175, 172, 163, 158, 155, 146, 138, 131, 129, 127, 119, 117, 112, 106, 104, 104, 103, 102, 102, 101, 95, 95, 88, 87, 84, 81, 80, 78, 77, 76, 75, 75, 74, 70, 69, 67, 67, 64, 60, 60, 60, 60, 58, 58, 57, 56, 50, 48, 46, 46, 46, 45, 44, 42, 41, 40, 39, 38, 37, 36, 36, 35, 33, 32, 32, 32, 31, 31, 31, 29, 28, 27, 27, 26, 26, 26, 25, 24, 23, 23, 23, 22, 22, 22, 21, 20, 19, 18, 17, 17, 16, 15, 14, 12, 12, 12, 10, 10, 10, 9, 9, 8, 6, 6, 6, 2, 2, 1, 1], \"type\": \"bar\", \"uid\": \"d486a4ac-c481-11e8-ae49-787b8ace8718\"}], {\"legend\": {\"orientation\": \"h\"}, \"title\": \"Bar\"}, {\"showLink\": true, \"linkText\": \"Export to plot.ly\"})});</script>"
      ]
     },
     "metadata": {},
     "output_type": "display_data"
    }
   ],
   "source": [
    "trace = go.Bar(\n",
    "    x=df['category'].value_counts().index,\n",
    "    y=df['category'].value_counts(),\n",
    "    name=\"Category\"\n",
    ")\n",
    "\n",
    "layout = go.Layout(title='Bar', \n",
    "                   legend=dict(orientation='h'))\n",
    "\n",
    "data=[trace]\n",
    "\n",
    "fig = go.Figure(data, layout=layout)\n",
    "iplot(fig)"
   ]
  },
  {
   "cell_type": "markdown",
   "metadata": {},
   "source": [
    "# カテゴリごとの別のカテゴリにおける割合を計算\n",
    "今回のデータセットの場合は、「カテゴリのごとの成功率」という値も重要な分析の対象になりそう。"
   ]
  },
  {
   "cell_type": "code",
   "execution_count": 15,
   "metadata": {},
   "outputs": [
    {
     "data": {
      "text/plain": [
       "Film & Video    5088\n",
       "Music           4082\n",
       "Publishing      3170\n",
       "Games           2810\n",
       "Technology      2572\n",
       "Design          2355\n",
       "Art             2267\n",
       "Food            1910\n",
       "Fashion         1758\n",
       "Photography      887\n",
       "Theater          882\n",
       "Comics           864\n",
       "Crafts           714\n",
       "Journalism       343\n",
       "Dance            298\n",
       "Name: main_category, dtype: int64"
      ]
     },
     "execution_count": 15,
     "metadata": {},
     "output_type": "execute_result"
    }
   ],
   "source": [
    "category = df['main_category'].value_counts()\n",
    "category"
   ]
  },
  {
   "cell_type": "code",
   "execution_count": 16,
   "metadata": {},
   "outputs": [
    {
     "data": {
      "text/plain": [
       "Film & Video    1935\n",
       "Music           1920\n",
       "Games           1023\n",
       "Publishing       951\n",
       "Art              937\n",
       "Design           807\n",
       "Technology       555\n",
       "Theater          531\n",
       "Food             504\n",
       "Comics           480\n",
       "Fashion          442\n",
       "Photography      273\n",
       "Crafts           173\n",
       "Dance            171\n",
       "Journalism        71\n",
       "Name: main_category, dtype: int64"
      ]
     },
     "execution_count": 16,
     "metadata": {},
     "output_type": "execute_result"
    }
   ],
   "source": [
    "category_success = df[df['state'] == 'successful']['main_category'].value_counts()\n",
    "category_success"
   ]
  },
  {
   "cell_type": "code",
   "execution_count": 17,
   "metadata": {},
   "outputs": [],
   "source": [
    "category_success_rate = round(category_success / category, 2).sort_values(ascending=False)"
   ]
  },
  {
   "cell_type": "code",
   "execution_count": 18,
   "metadata": {},
   "outputs": [
    {
     "data": {
      "application/vnd.plotly.v1+json": {
       "data": [
        {
         "name": "Category success rate",
         "type": "bar",
         "uid": "d4932c18-c481-11e8-bc40-787b8ace8718",
         "x": [
          "Theater",
          "Dance",
          "Comics",
          "Music",
          "Art",
          "Film & Video",
          "Games",
          "Design",
          "Photography",
          "Publishing",
          "Food",
          "Fashion",
          "Crafts",
          "Technology",
          "Journalism"
         ],
         "y": [
          0.6,
          0.57,
          0.56,
          0.47,
          0.41,
          0.38,
          0.36,
          0.34,
          0.31,
          0.3,
          0.26,
          0.25,
          0.24,
          0.22,
          0.21
         ]
        }
       ],
       "layout": {
        "legend": {
         "orientation": "h"
        },
        "title": "Bar"
       }
      },
      "text/html": [
       "<div id=\"49a1b041-7ae6-4918-9ecb-dc6441e25214\" style=\"height: 525px; width: 100%;\" class=\"plotly-graph-div\"></div><script type=\"text/javascript\">require([\"plotly\"], function(Plotly) { window.PLOTLYENV=window.PLOTLYENV || {};window.PLOTLYENV.BASE_URL=\"https://plot.ly\";Plotly.newPlot(\"49a1b041-7ae6-4918-9ecb-dc6441e25214\", [{\"name\": \"Category success rate\", \"x\": [\"Theater\", \"Dance\", \"Comics\", \"Music\", \"Art\", \"Film & Video\", \"Games\", \"Design\", \"Photography\", \"Publishing\", \"Food\", \"Fashion\", \"Crafts\", \"Technology\", \"Journalism\"], \"y\": [0.6, 0.57, 0.56, 0.47, 0.41, 0.38, 0.36, 0.34, 0.31, 0.3, 0.26, 0.25, 0.24, 0.22, 0.21], \"type\": \"bar\", \"uid\": \"d4932c18-c481-11e8-bc40-787b8ace8718\"}], {\"legend\": {\"orientation\": \"h\"}, \"title\": \"Bar\"}, {\"showLink\": true, \"linkText\": \"Export to plot.ly\"})});</script>"
      ],
      "text/vnd.plotly.v1+html": [
       "<div id=\"49a1b041-7ae6-4918-9ecb-dc6441e25214\" style=\"height: 525px; width: 100%;\" class=\"plotly-graph-div\"></div><script type=\"text/javascript\">require([\"plotly\"], function(Plotly) { window.PLOTLYENV=window.PLOTLYENV || {};window.PLOTLYENV.BASE_URL=\"https://plot.ly\";Plotly.newPlot(\"49a1b041-7ae6-4918-9ecb-dc6441e25214\", [{\"name\": \"Category success rate\", \"x\": [\"Theater\", \"Dance\", \"Comics\", \"Music\", \"Art\", \"Film & Video\", \"Games\", \"Design\", \"Photography\", \"Publishing\", \"Food\", \"Fashion\", \"Crafts\", \"Technology\", \"Journalism\"], \"y\": [0.6, 0.57, 0.56, 0.47, 0.41, 0.38, 0.36, 0.34, 0.31, 0.3, 0.26, 0.25, 0.24, 0.22, 0.21], \"type\": \"bar\", \"uid\": \"d4932c18-c481-11e8-bc40-787b8ace8718\"}], {\"legend\": {\"orientation\": \"h\"}, \"title\": \"Bar\"}, {\"showLink\": true, \"linkText\": \"Export to plot.ly\"})});</script>"
      ]
     },
     "metadata": {},
     "output_type": "display_data"
    }
   ],
   "source": [
    "trace = go.Bar(\n",
    "    x=category_success_rate.index,\n",
    "    y=category_success_rate,\n",
    "    name=\"Category success rate\"\n",
    ")\n",
    "\n",
    "layout = go.Layout(title='Bar', \n",
    "                   legend=dict(orientation='h'))\n",
    "\n",
    "data=[trace]\n",
    "fig = go.Figure(data, layout=layout)\n",
    "iplot(fig)"
   ]
  },
  {
   "cell_type": "markdown",
   "metadata": {},
   "source": [
    "# カテゴリごとに数値データを集計\n",
    "カテゴリごとに数値データを集計するには、groupby()を使います。"
   ]
  },
  {
   "cell_type": "code",
   "execution_count": 19,
   "metadata": {},
   "outputs": [
    {
     "data": {
      "text/html": [
       "<div>\n",
       "<style scoped>\n",
       "    .dataframe tbody tr th:only-of-type {\n",
       "        vertical-align: middle;\n",
       "    }\n",
       "\n",
       "    .dataframe tbody tr th {\n",
       "        vertical-align: top;\n",
       "    }\n",
       "\n",
       "    .dataframe thead th {\n",
       "        text-align: right;\n",
       "    }\n",
       "</style>\n",
       "<table border=\"1\" class=\"dataframe\">\n",
       "  <thead>\n",
       "    <tr style=\"text-align: right;\">\n",
       "      <th></th>\n",
       "      <th>usd_goal_real</th>\n",
       "    </tr>\n",
       "    <tr>\n",
       "      <th>main_category</th>\n",
       "      <th></th>\n",
       "    </tr>\n",
       "  </thead>\n",
       "  <tbody>\n",
       "    <tr>\n",
       "      <th>Art</th>\n",
       "      <td>5.194188e+07</td>\n",
       "    </tr>\n",
       "    <tr>\n",
       "      <th>Comics</th>\n",
       "      <td>7.723597e+06</td>\n",
       "    </tr>\n",
       "    <tr>\n",
       "      <th>Crafts</th>\n",
       "      <td>4.958846e+06</td>\n",
       "    </tr>\n",
       "    <tr>\n",
       "      <th>Dance</th>\n",
       "      <td>3.044371e+06</td>\n",
       "    </tr>\n",
       "    <tr>\n",
       "      <th>Design</th>\n",
       "      <td>8.453469e+07</td>\n",
       "    </tr>\n",
       "    <tr>\n",
       "      <th>Fashion</th>\n",
       "      <td>2.496166e+07</td>\n",
       "    </tr>\n",
       "    <tr>\n",
       "      <th>Film &amp; Video</th>\n",
       "      <td>2.448022e+08</td>\n",
       "    </tr>\n",
       "    <tr>\n",
       "      <th>Food</th>\n",
       "      <td>6.847047e+07</td>\n",
       "    </tr>\n",
       "    <tr>\n",
       "      <th>Games</th>\n",
       "      <td>7.630147e+07</td>\n",
       "    </tr>\n",
       "    <tr>\n",
       "      <th>Journalism</th>\n",
       "      <td>1.202195e+08</td>\n",
       "    </tr>\n",
       "    <tr>\n",
       "      <th>Music</th>\n",
       "      <td>7.005265e+07</td>\n",
       "    </tr>\n",
       "    <tr>\n",
       "      <th>Photography</th>\n",
       "      <td>2.098473e+07</td>\n",
       "    </tr>\n",
       "    <tr>\n",
       "      <th>Publishing</th>\n",
       "      <td>4.180413e+07</td>\n",
       "    </tr>\n",
       "    <tr>\n",
       "      <th>Technology</th>\n",
       "      <td>1.745976e+08</td>\n",
       "    </tr>\n",
       "    <tr>\n",
       "      <th>Theater</th>\n",
       "      <td>3.193927e+07</td>\n",
       "    </tr>\n",
       "  </tbody>\n",
       "</table>\n",
       "</div>"
      ],
      "text/plain": [
       "               usd_goal_real\n",
       "main_category               \n",
       "Art             5.194188e+07\n",
       "Comics          7.723597e+06\n",
       "Crafts          4.958846e+06\n",
       "Dance           3.044371e+06\n",
       "Design          8.453469e+07\n",
       "Fashion         2.496166e+07\n",
       "Film & Video    2.448022e+08\n",
       "Food            6.847047e+07\n",
       "Games           7.630147e+07\n",
       "Journalism      1.202195e+08\n",
       "Music           7.005265e+07\n",
       "Photography     2.098473e+07\n",
       "Publishing      4.180413e+07\n",
       "Technology      1.745976e+08\n",
       "Theater         3.193927e+07"
      ]
     },
     "execution_count": 19,
     "metadata": {},
     "output_type": "execute_result"
    }
   ],
   "source": [
    "df.groupby('main_category').sum()"
   ]
  },
  {
   "cell_type": "markdown",
   "metadata": {},
   "source": [
    "## 棒グラフを描画"
   ]
  },
  {
   "cell_type": "code",
   "execution_count": 20,
   "metadata": {
    "code_folding": []
   },
   "outputs": [
    {
     "data": {
      "application/vnd.plotly.v1+json": {
       "data": [
        {
         "name": "usd_goal_real",
         "type": "bar",
         "uid": "d49e8108-c481-11e8-aa23-787b8ace8718",
         "x": [
          "Art",
          "Comics",
          "Crafts",
          "Dance",
          "Design",
          "Fashion",
          "Film & Video",
          "Food",
          "Games",
          "Journalism",
          "Music",
          "Photography",
          "Publishing",
          "Technology",
          "Theater"
         ],
         "y": [
          51941882.139999956,
          7723597.1499999985,
          4958846.140000002,
          3044371.0300000003,
          84534687.65999998,
          24961662.150000006,
          244802210.68999985,
          68470470.27,
          76301472.39999999,
          120219517.35999998,
          70052648.45000002,
          20984726.250000026,
          41804133.900000066,
          174597571.45000008,
          31939271.380000003
         ]
        }
       ],
       "layout": {
        "legend": {
         "orientation": "h"
        },
        "title": "Bar"
       }
      },
      "text/html": [
       "<div id=\"b0f79697-fc12-4008-becd-360eb2c05e4c\" style=\"height: 525px; width: 100%;\" class=\"plotly-graph-div\"></div><script type=\"text/javascript\">require([\"plotly\"], function(Plotly) { window.PLOTLYENV=window.PLOTLYENV || {};window.PLOTLYENV.BASE_URL=\"https://plot.ly\";Plotly.newPlot(\"b0f79697-fc12-4008-becd-360eb2c05e4c\", [{\"name\": \"usd_goal_real\", \"x\": [\"Art\", \"Comics\", \"Crafts\", \"Dance\", \"Design\", \"Fashion\", \"Film & Video\", \"Food\", \"Games\", \"Journalism\", \"Music\", \"Photography\", \"Publishing\", \"Technology\", \"Theater\"], \"y\": [51941882.139999956, 7723597.1499999985, 4958846.140000002, 3044371.0300000003, 84534687.65999998, 24961662.150000006, 244802210.68999985, 68470470.27, 76301472.39999999, 120219517.35999998, 70052648.45000002, 20984726.250000026, 41804133.900000066, 174597571.45000008, 31939271.380000003], \"type\": \"bar\", \"uid\": \"d49e8108-c481-11e8-aa23-787b8ace8718\"}], {\"legend\": {\"orientation\": \"h\"}, \"title\": \"Bar\"}, {\"showLink\": true, \"linkText\": \"Export to plot.ly\"})});</script>"
      ],
      "text/vnd.plotly.v1+html": [
       "<div id=\"b0f79697-fc12-4008-becd-360eb2c05e4c\" style=\"height: 525px; width: 100%;\" class=\"plotly-graph-div\"></div><script type=\"text/javascript\">require([\"plotly\"], function(Plotly) { window.PLOTLYENV=window.PLOTLYENV || {};window.PLOTLYENV.BASE_URL=\"https://plot.ly\";Plotly.newPlot(\"b0f79697-fc12-4008-becd-360eb2c05e4c\", [{\"name\": \"usd_goal_real\", \"x\": [\"Art\", \"Comics\", \"Crafts\", \"Dance\", \"Design\", \"Fashion\", \"Film & Video\", \"Food\", \"Games\", \"Journalism\", \"Music\", \"Photography\", \"Publishing\", \"Technology\", \"Theater\"], \"y\": [51941882.139999956, 7723597.1499999985, 4958846.140000002, 3044371.0300000003, 84534687.65999998, 24961662.150000006, 244802210.68999985, 68470470.27, 76301472.39999999, 120219517.35999998, 70052648.45000002, 20984726.250000026, 41804133.900000066, 174597571.45000008, 31939271.380000003], \"type\": \"bar\", \"uid\": \"d49e8108-c481-11e8-aa23-787b8ace8718\"}], {\"legend\": {\"orientation\": \"h\"}, \"title\": \"Bar\"}, {\"showLink\": true, \"linkText\": \"Export to plot.ly\"})});</script>"
      ]
     },
     "metadata": {},
     "output_type": "display_data"
    }
   ],
   "source": [
    "trace = go.Bar(\n",
    "    x=df.groupby('main_category').sum().index,\n",
    "    y=df.groupby('main_category').sum()['usd_goal_real'],\n",
    "    name=\"usd_goal_real\"\n",
    ")\n",
    "\n",
    "layout = go.Layout(title='Bar', \n",
    "                   legend=dict(orientation='h'))\n",
    "\n",
    "data=[trace]\n",
    "fig = go.Figure(data, layout=layout)\n",
    "iplot(fig)"
   ]
  },
  {
   "cell_type": "markdown",
   "metadata": {},
   "source": [
    "## 大きい順に表示する"
   ]
  },
  {
   "cell_type": "code",
   "execution_count": 21,
   "metadata": {},
   "outputs": [
    {
     "data": {
      "application/vnd.plotly.v1+json": {
       "data": [
        {
         "name": "usd_goal_real",
         "type": "bar",
         "uid": "d4a6c7b4-c481-11e8-88bf-787b8ace8718",
         "x": [
          "Film & Video",
          "Technology",
          "Journalism",
          "Design",
          "Games",
          "Music",
          "Food",
          "Art",
          "Publishing",
          "Theater",
          "Fashion",
          "Photography",
          "Comics",
          "Crafts",
          "Dance"
         ],
         "y": [
          244802210.68999985,
          174597571.45000008,
          120219517.35999998,
          84534687.65999998,
          76301472.39999999,
          70052648.45000002,
          68470470.27,
          51941882.139999956,
          41804133.900000066,
          31939271.380000003,
          24961662.150000006,
          20984726.250000026,
          7723597.1499999985,
          4958846.140000002,
          3044371.0300000003
         ]
        }
       ],
       "layout": {
        "legend": {
         "orientation": "h"
        },
        "title": "Bar"
       }
      },
      "text/html": [
       "<div id=\"97d96daf-fa72-48b2-af56-a94a935852a3\" style=\"height: 525px; width: 100%;\" class=\"plotly-graph-div\"></div><script type=\"text/javascript\">require([\"plotly\"], function(Plotly) { window.PLOTLYENV=window.PLOTLYENV || {};window.PLOTLYENV.BASE_URL=\"https://plot.ly\";Plotly.newPlot(\"97d96daf-fa72-48b2-af56-a94a935852a3\", [{\"name\": \"usd_goal_real\", \"x\": [\"Film & Video\", \"Technology\", \"Journalism\", \"Design\", \"Games\", \"Music\", \"Food\", \"Art\", \"Publishing\", \"Theater\", \"Fashion\", \"Photography\", \"Comics\", \"Crafts\", \"Dance\"], \"y\": [244802210.68999985, 174597571.45000008, 120219517.35999998, 84534687.65999998, 76301472.39999999, 70052648.45000002, 68470470.27, 51941882.139999956, 41804133.900000066, 31939271.380000003, 24961662.150000006, 20984726.250000026, 7723597.1499999985, 4958846.140000002, 3044371.0300000003], \"type\": \"bar\", \"uid\": \"d4a6c7b4-c481-11e8-88bf-787b8ace8718\"}], {\"legend\": {\"orientation\": \"h\"}, \"title\": \"Bar\"}, {\"showLink\": true, \"linkText\": \"Export to plot.ly\"})});</script>"
      ],
      "text/vnd.plotly.v1+html": [
       "<div id=\"97d96daf-fa72-48b2-af56-a94a935852a3\" style=\"height: 525px; width: 100%;\" class=\"plotly-graph-div\"></div><script type=\"text/javascript\">require([\"plotly\"], function(Plotly) { window.PLOTLYENV=window.PLOTLYENV || {};window.PLOTLYENV.BASE_URL=\"https://plot.ly\";Plotly.newPlot(\"97d96daf-fa72-48b2-af56-a94a935852a3\", [{\"name\": \"usd_goal_real\", \"x\": [\"Film & Video\", \"Technology\", \"Journalism\", \"Design\", \"Games\", \"Music\", \"Food\", \"Art\", \"Publishing\", \"Theater\", \"Fashion\", \"Photography\", \"Comics\", \"Crafts\", \"Dance\"], \"y\": [244802210.68999985, 174597571.45000008, 120219517.35999998, 84534687.65999998, 76301472.39999999, 70052648.45000002, 68470470.27, 51941882.139999956, 41804133.900000066, 31939271.380000003, 24961662.150000006, 20984726.250000026, 7723597.1499999985, 4958846.140000002, 3044371.0300000003], \"type\": \"bar\", \"uid\": \"d4a6c7b4-c481-11e8-88bf-787b8ace8718\"}], {\"legend\": {\"orientation\": \"h\"}, \"title\": \"Bar\"}, {\"showLink\": true, \"linkText\": \"Export to plot.ly\"})});</script>"
      ]
     },
     "metadata": {},
     "output_type": "display_data"
    }
   ],
   "source": [
    "groupby = df.groupby('main_category').sum().sort_values('usd_goal_real', ascending=False)\n",
    "\n",
    "trace = go.Bar(\n",
    "    x=groupby.index,\n",
    "    y=groupby['usd_goal_real'],\n",
    "    name=\"usd_goal_real\"\n",
    ")\n",
    "\n",
    "layout = go.Layout(title='Bar', \n",
    "                   legend=dict(orientation='h'))\n",
    "\n",
    "data=[trace]\n",
    "fig = go.Figure(data, layout=layout)\n",
    "iplot(fig)"
   ]
  },
  {
   "cell_type": "markdown",
   "metadata": {},
   "source": [
    "## 箱ひげ図を描画"
   ]
  },
  {
   "cell_type": "code",
   "execution_count": 22,
   "metadata": {
    "scrolled": false
   },
   "outputs": [
    {
     "data": {
      "text/plain": [
       "<matplotlib.axes._subplots.AxesSubplot at 0x11852d550>"
      ]
     },
     "execution_count": 22,
     "metadata": {},
     "output_type": "execute_result"
    },
    {
     "data": {
      "image/png": "[encoded data removed]",
      "text/plain": [
       "<Figure size 1440x720 with 1 Axes>"
      ]
     },
     "metadata": {},
     "output_type": "display_data"
    }
   ],
   "source": [
    "df = df[df['usd_goal_real'] < 50000]\n",
    "\n",
    "plt.figure(figsize=(20, 10))\n",
    "sns.boxplot(data=df, \n",
    "            x=df['main_category'], \n",
    "            y=df['usd_goal_real'])"
   ]
  },
  {
   "cell_type": "markdown",
   "metadata": {},
   "source": [
    "# ダミー変数化\n",
    "ダミー変数に変換する際は、pd.get_dummies()を使うと便利です。\n",
    "\n",
    "drop_firstという引数をTrueにすると最初のダミーフラグを落としてくれます。"
   ]
  },
  {
   "cell_type": "code",
   "execution_count": 23,
   "metadata": {},
   "outputs": [
    {
     "data": {
      "text/html": [
       "<div>\n",
       "<style scoped>\n",
       "    .dataframe tbody tr th:only-of-type {\n",
       "        vertical-align: middle;\n",
       "    }\n",
       "\n",
       "    .dataframe tbody tr th {\n",
       "        vertical-align: top;\n",
       "    }\n",
       "\n",
       "    .dataframe thead th {\n",
       "        text-align: right;\n",
       "    }\n",
       "</style>\n",
       "<table border=\"1\" class=\"dataframe\">\n",
       "  <thead>\n",
       "    <tr style=\"text-align: right;\">\n",
       "      <th></th>\n",
       "      <th>AUD</th>\n",
       "      <th>CAD</th>\n",
       "      <th>CHF</th>\n",
       "      <th>DKK</th>\n",
       "      <th>EUR</th>\n",
       "      <th>GBP</th>\n",
       "      <th>HKD</th>\n",
       "      <th>JPY</th>\n",
       "      <th>MXN</th>\n",
       "      <th>NOK</th>\n",
       "      <th>NZD</th>\n",
       "      <th>SEK</th>\n",
       "      <th>SGD</th>\n",
       "      <th>USD</th>\n",
       "    </tr>\n",
       "  </thead>\n",
       "  <tbody>\n",
       "    <tr>\n",
       "      <th>0</th>\n",
       "      <td>0</td>\n",
       "      <td>0</td>\n",
       "      <td>0</td>\n",
       "      <td>0</td>\n",
       "      <td>0</td>\n",
       "      <td>1</td>\n",
       "      <td>0</td>\n",
       "      <td>0</td>\n",
       "      <td>0</td>\n",
       "      <td>0</td>\n",
       "      <td>0</td>\n",
       "      <td>0</td>\n",
       "      <td>0</td>\n",
       "      <td>0</td>\n",
       "    </tr>\n",
       "    <tr>\n",
       "      <th>1</th>\n",
       "      <td>0</td>\n",
       "      <td>0</td>\n",
       "      <td>0</td>\n",
       "      <td>0</td>\n",
       "      <td>0</td>\n",
       "      <td>0</td>\n",
       "      <td>0</td>\n",
       "      <td>0</td>\n",
       "      <td>0</td>\n",
       "      <td>0</td>\n",
       "      <td>0</td>\n",
       "      <td>0</td>\n",
       "      <td>0</td>\n",
       "      <td>1</td>\n",
       "    </tr>\n",
       "    <tr>\n",
       "      <th>2</th>\n",
       "      <td>0</td>\n",
       "      <td>0</td>\n",
       "      <td>0</td>\n",
       "      <td>0</td>\n",
       "      <td>0</td>\n",
       "      <td>0</td>\n",
       "      <td>0</td>\n",
       "      <td>0</td>\n",
       "      <td>0</td>\n",
       "      <td>0</td>\n",
       "      <td>0</td>\n",
       "      <td>0</td>\n",
       "      <td>0</td>\n",
       "      <td>1</td>\n",
       "    </tr>\n",
       "    <tr>\n",
       "      <th>3</th>\n",
       "      <td>0</td>\n",
       "      <td>0</td>\n",
       "      <td>0</td>\n",
       "      <td>0</td>\n",
       "      <td>0</td>\n",
       "      <td>0</td>\n",
       "      <td>0</td>\n",
       "      <td>0</td>\n",
       "      <td>0</td>\n",
       "      <td>0</td>\n",
       "      <td>0</td>\n",
       "      <td>0</td>\n",
       "      <td>0</td>\n",
       "      <td>1</td>\n",
       "    </tr>\n",
       "    <tr>\n",
       "      <th>4</th>\n",
       "      <td>0</td>\n",
       "      <td>0</td>\n",
       "      <td>0</td>\n",
       "      <td>0</td>\n",
       "      <td>0</td>\n",
       "      <td>0</td>\n",
       "      <td>0</td>\n",
       "      <td>0</td>\n",
       "      <td>0</td>\n",
       "      <td>0</td>\n",
       "      <td>0</td>\n",
       "      <td>0</td>\n",
       "      <td>0</td>\n",
       "      <td>1</td>\n",
       "    </tr>\n",
       "  </tbody>\n",
       "</table>\n",
       "</div>"
      ],
      "text/plain": [
       "   AUD  CAD  CHF  DKK  EUR  GBP  HKD  JPY  MXN  NOK  NZD  SEK  SGD  USD\n",
       "0    0    0    0    0    0    1    0    0    0    0    0    0    0    0\n",
       "1    0    0    0    0    0    0    0    0    0    0    0    0    0    1\n",
       "2    0    0    0    0    0    0    0    0    0    0    0    0    0    1\n",
       "3    0    0    0    0    0    0    0    0    0    0    0    0    0    1\n",
       "4    0    0    0    0    0    0    0    0    0    0    0    0    0    1"
      ]
     },
     "execution_count": 23,
     "metadata": {},
     "output_type": "execute_result"
    }
   ],
   "source": [
    "pd.get_dummies(df['currency']).head()"
   ]
  },
  {
   "cell_type": "code",
   "execution_count": 24,
   "metadata": {},
   "outputs": [
    {
     "data": {
      "text/html": [
       "<div>\n",
       "<style scoped>\n",
       "    .dataframe tbody tr th:only-of-type {\n",
       "        vertical-align: middle;\n",
       "    }\n",
       "\n",
       "    .dataframe tbody tr th {\n",
       "        vertical-align: top;\n",
       "    }\n",
       "\n",
       "    .dataframe thead th {\n",
       "        text-align: right;\n",
       "    }\n",
       "</style>\n",
       "<table border=\"1\" class=\"dataframe\">\n",
       "  <thead>\n",
       "    <tr style=\"text-align: right;\">\n",
       "      <th></th>\n",
       "      <th>CAD</th>\n",
       "      <th>CHF</th>\n",
       "      <th>DKK</th>\n",
       "      <th>EUR</th>\n",
       "      <th>GBP</th>\n",
       "      <th>HKD</th>\n",
       "      <th>JPY</th>\n",
       "      <th>MXN</th>\n",
       "      <th>NOK</th>\n",
       "      <th>NZD</th>\n",
       "      <th>SEK</th>\n",
       "      <th>SGD</th>\n",
       "      <th>USD</th>\n",
       "    </tr>\n",
       "  </thead>\n",
       "  <tbody>\n",
       "    <tr>\n",
       "      <th>0</th>\n",
       "      <td>0</td>\n",
       "      <td>0</td>\n",
       "      <td>0</td>\n",
       "      <td>0</td>\n",
       "      <td>1</td>\n",
       "      <td>0</td>\n",
       "      <td>0</td>\n",
       "      <td>0</td>\n",
       "      <td>0</td>\n",
       "      <td>0</td>\n",
       "      <td>0</td>\n",
       "      <td>0</td>\n",
       "      <td>0</td>\n",
       "    </tr>\n",
       "    <tr>\n",
       "      <th>1</th>\n",
       "      <td>0</td>\n",
       "      <td>0</td>\n",
       "      <td>0</td>\n",
       "      <td>0</td>\n",
       "      <td>0</td>\n",
       "      <td>0</td>\n",
       "      <td>0</td>\n",
       "      <td>0</td>\n",
       "      <td>0</td>\n",
       "      <td>0</td>\n",
       "      <td>0</td>\n",
       "      <td>0</td>\n",
       "      <td>1</td>\n",
       "    </tr>\n",
       "    <tr>\n",
       "      <th>2</th>\n",
       "      <td>0</td>\n",
       "      <td>0</td>\n",
       "      <td>0</td>\n",
       "      <td>0</td>\n",
       "      <td>0</td>\n",
       "      <td>0</td>\n",
       "      <td>0</td>\n",
       "      <td>0</td>\n",
       "      <td>0</td>\n",
       "      <td>0</td>\n",
       "      <td>0</td>\n",
       "      <td>0</td>\n",
       "      <td>1</td>\n",
       "    </tr>\n",
       "    <tr>\n",
       "      <th>3</th>\n",
       "      <td>0</td>\n",
       "      <td>0</td>\n",
       "      <td>0</td>\n",
       "      <td>0</td>\n",
       "      <td>0</td>\n",
       "      <td>0</td>\n",
       "      <td>0</td>\n",
       "      <td>0</td>\n",
       "      <td>0</td>\n",
       "      <td>0</td>\n",
       "      <td>0</td>\n",
       "      <td>0</td>\n",
       "      <td>1</td>\n",
       "    </tr>\n",
       "    <tr>\n",
       "      <th>4</th>\n",
       "      <td>0</td>\n",
       "      <td>0</td>\n",
       "      <td>0</td>\n",
       "      <td>0</td>\n",
       "      <td>0</td>\n",
       "      <td>0</td>\n",
       "      <td>0</td>\n",
       "      <td>0</td>\n",
       "      <td>0</td>\n",
       "      <td>0</td>\n",
       "      <td>0</td>\n",
       "      <td>0</td>\n",
       "      <td>1</td>\n",
       "    </tr>\n",
       "  </tbody>\n",
       "</table>\n",
       "</div>"
      ],
      "text/plain": [
       "   CAD  CHF  DKK  EUR  GBP  HKD  JPY  MXN  NOK  NZD  SEK  SGD  USD\n",
       "0    0    0    0    0    1    0    0    0    0    0    0    0    0\n",
       "1    0    0    0    0    0    0    0    0    0    0    0    0    1\n",
       "2    0    0    0    0    0    0    0    0    0    0    0    0    1\n",
       "3    0    0    0    0    0    0    0    0    0    0    0    0    1\n",
       "4    0    0    0    0    0    0    0    0    0    0    0    0    1"
      ]
     },
     "execution_count": 24,
     "metadata": {},
     "output_type": "execute_result"
    }
   ],
   "source": [
    "pd.get_dummies(df['currency'], drop_first=True).head()"
   ]
  },
  {
   "cell_type": "markdown",
   "metadata": {},
   "source": [
    "# カテゴリの集約\n",
    "所属するデータがあまりにも少ないカテゴリを使って学習を行うと、過学習のリスクが高まります。\n",
    "\n",
    "データの少ないカテゴリは、「その他」のようなカテゴリに集約してしまいましょう。"
   ]
  },
  {
   "cell_type": "code",
   "execution_count": 25,
   "metadata": {},
   "outputs": [
    {
     "data": {
      "text/plain": [
       "USD    21171\n",
       "GBP     2486\n",
       "EUR     1190\n",
       "CAD     1116\n",
       "AUD      557\n",
       "MXN      139\n",
       "SEK      126\n",
       "NZD       95\n",
       "DKK       80\n",
       "NOK       61\n",
       "HKD       54\n",
       "CHF       42\n",
       "SGD       35\n",
       "JPY        3\n",
       "Name: currency, dtype: int64"
      ]
     },
     "execution_count": 25,
     "metadata": {},
     "output_type": "execute_result"
    }
   ],
   "source": [
    "df['currency'].value_counts() "
   ]
  },
  {
   "cell_type": "markdown",
   "metadata": {},
   "source": [
    "AUD以下のカテゴリはデータ数が少ないことがわかります。よって、ここでは、これらを「Others」としてまとめます。"
   ]
  },
  {
   "cell_type": "code",
   "execution_count": 26,
   "metadata": {},
   "outputs": [],
   "source": [
    "def others(currency):\n",
    "    return np.where((currency == 'MXN') | (currency == 'SEK') | (currency == 'NZD') | (currency == 'DKK') |\n",
    "                    (currency == 'NOK') | (currency == 'HKD') | (currency == 'CHF') | (currency == 'SGD') |\n",
    "                    (currency == 'JPY'), 'Others', currency)"
   ]
  },
  {
   "cell_type": "code",
   "execution_count": 27,
   "metadata": {},
   "outputs": [
    {
     "data": {
      "text/plain": [
       "USD       21171\n",
       "GBP        2486\n",
       "EUR        1190\n",
       "CAD        1116\n",
       "Others      635\n",
       "AUD         557\n",
       "Name: currency, dtype: int64"
      ]
     },
     "execution_count": 27,
     "metadata": {},
     "output_type": "execute_result"
    }
   ],
   "source": [
    "df['currency'] = others(df['currency'])\n",
    "df['currency'].value_counts()"
   ]
  },
  {
   "cell_type": "markdown",
   "metadata": {},
   "source": [
    "# ラベル化\n",
    "実際に機械学習のモデルに当てはめて学習を行うときは、文字列のデータを数値に変換してなくてはなりません。\n",
    "\n",
    "その際は、sklearnのLabelEncoderを使うと便利です。"
   ]
  },
  {
   "cell_type": "code",
   "execution_count": 28,
   "metadata": {},
   "outputs": [],
   "source": [
    "from sklearn.preprocessing import LabelEncoder"
   ]
  },
  {
   "cell_type": "code",
   "execution_count": 29,
   "metadata": {},
   "outputs": [
    {
     "data": {
      "text/html": [
       "<div>\n",
       "<style scoped>\n",
       "    .dataframe tbody tr th:only-of-type {\n",
       "        vertical-align: middle;\n",
       "    }\n",
       "\n",
       "    .dataframe tbody tr th {\n",
       "        vertical-align: top;\n",
       "    }\n",
       "\n",
       "    .dataframe thead th {\n",
       "        text-align: right;\n",
       "    }\n",
       "</style>\n",
       "<table border=\"1\" class=\"dataframe\">\n",
       "  <thead>\n",
       "    <tr style=\"text-align: right;\">\n",
       "      <th></th>\n",
       "      <th>category</th>\n",
       "      <th>main_category</th>\n",
       "      <th>currency</th>\n",
       "      <th>state</th>\n",
       "      <th>country</th>\n",
       "      <th>usd_goal_real</th>\n",
       "    </tr>\n",
       "  </thead>\n",
       "  <tbody>\n",
       "    <tr>\n",
       "      <th>0</th>\n",
       "      <td>108</td>\n",
       "      <td>12</td>\n",
       "      <td>3</td>\n",
       "      <td>1</td>\n",
       "      <td>9</td>\n",
       "      <td>1533.95</td>\n",
       "    </tr>\n",
       "    <tr>\n",
       "      <th>1</th>\n",
       "      <td>93</td>\n",
       "      <td>6</td>\n",
       "      <td>5</td>\n",
       "      <td>1</td>\n",
       "      <td>22</td>\n",
       "      <td>30000.00</td>\n",
       "    </tr>\n",
       "    <tr>\n",
       "      <th>2</th>\n",
       "      <td>93</td>\n",
       "      <td>6</td>\n",
       "      <td>5</td>\n",
       "      <td>1</td>\n",
       "      <td>22</td>\n",
       "      <td>45000.00</td>\n",
       "    </tr>\n",
       "    <tr>\n",
       "      <th>3</th>\n",
       "      <td>90</td>\n",
       "      <td>10</td>\n",
       "      <td>5</td>\n",
       "      <td>1</td>\n",
       "      <td>22</td>\n",
       "      <td>5000.00</td>\n",
       "    </tr>\n",
       "    <tr>\n",
       "      <th>4</th>\n",
       "      <td>55</td>\n",
       "      <td>6</td>\n",
       "      <td>5</td>\n",
       "      <td>0</td>\n",
       "      <td>22</td>\n",
       "      <td>19500.00</td>\n",
       "    </tr>\n",
       "  </tbody>\n",
       "</table>\n",
       "</div>"
      ],
      "text/plain": [
       "   category  main_category  currency  state  country  usd_goal_real\n",
       "0       108             12         3      1        9        1533.95\n",
       "1        93              6         5      1       22       30000.00\n",
       "2        93              6         5      1       22       45000.00\n",
       "3        90             10         5      1       22        5000.00\n",
       "4        55              6         5      0       22       19500.00"
      ]
     },
     "execution_count": 29,
     "metadata": {},
     "output_type": "execute_result"
    }
   ],
   "source": [
    "cat_features = ['category', 'main_category', 'currency', 'state', 'country']\n",
    "\n",
    "for col in cat_features:\n",
    "    lbl = LabelEncoder()\n",
    "    df[col] = lbl.fit_transform(df[col].values)\n",
    "    \n",
    "df.head()"
   ]
  },
  {
   "cell_type": "code",
   "execution_count": null,
   "metadata": {},
   "outputs": [],
   "source": []
  }
 ],
 "metadata": {
  "kernelspec": {
   "display_name": "Python 3",
   "language": "python",
   "name": "python3"
  },
  "language_info": {
   "codemirror_mode": {
    "name": "ipython",
    "version": 3
   },
   "file_extension": ".py",
   "mimetype": "text/x-python",
   "name": "python",
   "nbconvert_exporter": "python",
   "pygments_lexer": "ipython3",
   "version": "3.6.4"
  }
 },
 "nbformat": 4,
 "nbformat_minor": 2
}
